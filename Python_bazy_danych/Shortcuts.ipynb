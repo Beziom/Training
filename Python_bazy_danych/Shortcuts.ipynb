{
 "cells": [
  {
   "cell_type": "markdown",
   "metadata": {},
   "source": [
    "a - insert new cell below\n",
    "\n",
    "b - inster new cell below\n",
    "\n",
    "m - make a markdown field\n",
    "\n",
    "y - make an cell field\n",
    "\n",
    "ctrl + alt + enter - execute code\n",
    "\n",
    "shift + enter - execute code plus new cell\n",
    "\n",
    "x - cut cells\n",
    "\n",
    "v - paste cell below\n",
    "\n",
    "dd - deleting"
   ]
  }
 ],
 "metadata": {
  "kernelspec": {
   "display_name": "Python 3.10.4 64-bit",
   "language": "python",
   "name": "python3"
  },
  "language_info": {
   "name": "python",
   "version": "3.10.4"
  },
  "orig_nbformat": 4,
  "vscode": {
   "interpreter": {
    "hash": "b2479ae270f55b53aebf886fbbdaacff6de5921ff9a36b347b36f838676bd380"
   }
  }
 },
 "nbformat": 4,
 "nbformat_minor": 2
}
